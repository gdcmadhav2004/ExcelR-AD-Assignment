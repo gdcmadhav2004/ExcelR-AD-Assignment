{
 "cells": [
  {
   "cell_type": "markdown",
   "id": "fe62d9eb",
   "metadata": {},
   "source": [
    "## Bag of Words & TF-IDF"
   ]
  },
  {
   "cell_type": "code",
   "execution_count": null,
   "id": "ecc192ad",
   "metadata": {},
   "outputs": [],
   "source": [
    "from sklearn.feature_extraction.text import CountVectorizer, TfidfVectorizer\n",
    "\n",
    "texts = [\"I love machine learning\", \"Machine learning is fun\", \"Deep learning is amazing\"]\n",
    "vectorizer = CountVectorizer()\n",
    "bow = vectorizer.fit_transform(texts).toarray()\n",
    "\n",
    "tfidf_vectorizer = TfidfVectorizer()\n",
    "tfidf = tfidf_vectorizer.fit_transform(texts).toarray()\n",
    "\n",
    "print(\"Bag of Words Representation:\\n\", bow)\n",
    "print(\"TF-IDF Representation:\\n\", tfidf)"
   ]
  },
  {
   "cell_type": "markdown",
   "id": "ae368a47",
   "metadata": {},
   "source": [
    "## Naive Bayes Text Classification"
   ]
  },
  {
   "cell_type": "code",
   "execution_count": null,
   "id": "244225b3",
   "metadata": {},
   "outputs": [],
   "source": [
    "from sklearn.naive_bayes import MultinomialNB\n",
    "\n",
    "clf = MultinomialNB()\n",
    "y_train = [0, 1, 1]  # Dummy labels\n",
    "\n",
    "vectorizer = CountVectorizer()\n",
    "bow = vectorizer.fit_transform([\"I love programming\", \"Python is great\", \"Machine learning is amazing\"]).toarray()\n",
    "\n",
    "clf.fit(bow, y_train)\n",
    "prediction = clf.predict(vectorizer.transform([\"Machine learning is cool\"]).toarray())\n",
    "\n",
    "print(\"Predicted Class:\", prediction)"
   ]
  },
  {
   "cell_type": "markdown",
   "id": "9121771d",
   "metadata": {},
   "source": [
    "## Decision Tree Text Classification"
   ]
  },
  {
   "cell_type": "code",
   "execution_count": null,
   "id": "50537286",
   "metadata": {},
   "outputs": [],
   "source": [
    "from sklearn.tree import DecisionTreeClassifier\n",
    "\n",
    "dt_clf = DecisionTreeClassifier()\n",
    "dt_clf.fit(bow, y_train)\n",
    "\n",
    "dt_prediction = dt_clf.predict(vectorizer.transform([\"Spam messages are annoying\"]).toarray())\n",
    "\n",
    "print(\"Decision Tree Prediction:\", dt_prediction)"
   ]
  },
  {
   "cell_type": "markdown",
   "id": "aa815d60",
   "metadata": {},
   "source": [
    "## Random Forest Text Classification"
   ]
  },
  {
   "cell_type": "code",
   "execution_count": null,
   "id": "b07edc42",
   "metadata": {},
   "outputs": [],
   "source": [
    "from sklearn.ensemble import RandomForestClassifier\n",
    "\n",
    "rf_clf = RandomForestClassifier()\n",
    "rf_clf.fit(bow, y_train)\n",
    "\n",
    "rf_prediction = rf_clf.predict(vectorizer.transform([\"Buy now and win a prize\"]).toarray())\n",
    "\n",
    "print(\"Random Forest Prediction:\", rf_prediction)"
   ]
  },
  {
   "cell_type": "markdown",
   "id": "89071dbc",
   "metadata": {},
   "source": [
    "## GPT Text Completion"
   ]
  },
  {
   "cell_type": "code",
   "execution_count": null,
   "id": "28eb122b",
   "metadata": {},
   "outputs": [],
   "source": [
    "import openai\n",
    "\n",
    "# Uncomment and set your OpenAI API key before running\n",
    "# openai.api_key = \"your-api-key\"\n",
    "\n",
    "# response = openai.ChatCompletion.create(\n",
    "#     model=\"text-davinci-003\",\n",
    "#     prompt=\"Artificial Intelligence is...\",\n",
    "#     max_tokens=50\n",
    "# )\n",
    "# print(response[\"choices\"][0][\"text\"])"
   ]
  },
  {
   "cell_type": "markdown",
   "id": "ac660471",
   "metadata": {},
   "source": [
    "## Rule-Based Chatbot"
   ]
  },
  {
   "cell_type": "code",
   "execution_count": null,
   "id": "ef3909c1",
   "metadata": {},
   "outputs": [],
   "source": [
    "responses = {\"Hello\": \"Hi!\", \"How are you?\": \"I'm fine, thanks!\", \"Bye\": \"Goodbye!\"}\n",
    "\n",
    "user_input = \"Hello\"\n",
    "chat_response = responses.get(user_input, \"I don't understand\")\n",
    "\n",
    "print(\"Chatbot Response:\", chat_response)"
   ]
  },
  {
   "cell_type": "markdown",
   "id": "dd4f5756",
   "metadata": {},
   "source": [
    "## Text Summarization (Hugging Face)"
   ]
  },
  {
   "cell_type": "code",
   "execution_count": null,
   "id": "1db2ac12",
   "metadata": {},
   "outputs": [],
   "source": [
    "from transformers import pipeline\n",
    "\n",
    "summarizer = pipeline(\"summarization\")\n",
    "\n",
    "summary = summarizer(\"Artificial Intelligence is transforming the world.\")[0]['summary_text']\n",
    "\n",
    "print(\"Summary:\", summary)"
   ]
  },
  {
   "cell_type": "markdown",
   "id": "bfc61464",
   "metadata": {},
   "source": [
    "## Self-Attention Mechanism"
   ]
  },
  {
   "cell_type": "code",
   "execution_count": null,
   "id": "a77df4e0",
   "metadata": {},
   "outputs": [],
   "source": [
    "import numpy as np\n",
    "\n",
    "Q, K, V = np.random.rand(3, 3), np.random.rand(3, 3), np.random.rand(3, 3)\n",
    "attention_scores = np.dot(Q, K.T)\n",
    "\n",
    "print(\"Attention Scores:\\n\", attention_scores)"
   ]
  },
  {
   "cell_type": "markdown",
   "id": "6993f94b",
   "metadata": {},
   "source": [
    "## BERT Tokenization"
   ]
  },
  {
   "cell_type": "code",
   "execution_count": null,
   "id": "ae48e405",
   "metadata": {},
   "outputs": [],
   "source": [
    "from transformers import BertTokenizer\n",
    "\n",
    "tokenizer = BertTokenizer.from_pretrained(\"bert-base-uncased\")\n",
    "tokens = tokenizer(\"Hello, how are you?\", return_tensors=\"pt\")\n",
    "\n",
    "print(\"Tokenized Input:\", tokens)"
   ]
  },
  {
   "cell_type": "markdown",
   "id": "67dfc32e",
   "metadata": {},
   "source": [
    "## Simple If-Else Chatbot"
   ]
  },
  {
   "cell_type": "code",
   "execution_count": null,
   "id": "d63765f5",
   "metadata": {},
   "outputs": [],
   "source": [
    "user_input = \"Hello\"\n",
    "\n",
    "if user_input == \"Hello\":\n",
    "    chatbot_response = \"Hi! How can I help you?\"\n",
    "elif user_input == \"Bye\":\n",
    "    chatbot_response = \"Goodbye! Have a nice day!\"\n",
    "else:\n",
    "    chatbot_response = \"I don't understand.\"\n",
    "\n",
    "print(\"Chatbot Response:\", chatbot_response)"
   ]
  }
 ],
 "metadata": {
  "kernelspec": {
   "display_name": "Python 3 (ipykernel)",
   "language": "python",
   "name": "python3"
  },
  "language_info": {
   "codemirror_mode": {
    "name": "ipython",
    "version": 3
   },
   "file_extension": ".py",
   "mimetype": "text/x-python",
   "name": "python",
   "nbconvert_exporter": "python",
   "pygments_lexer": "ipython3",
   "version": "3.13.1"
  }
 },
 "nbformat": 4,
 "nbformat_minor": 5
}
